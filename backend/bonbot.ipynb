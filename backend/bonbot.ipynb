{
 "cells": [
  {
   "cell_type": "code",
   "execution_count": 1,
   "id": "e41b317d",
   "metadata": {},
   "outputs": [
    {
     "name": "stderr",
     "output_type": "stream",
     "text": [
      "/Users/alandeau/bonbot/backend/venv/lib/python3.11/site-packages/tqdm/auto.py:21: TqdmWarning: IProgress not found. Please update jupyter and ipywidgets. See https://ipywidgets.readthedocs.io/en/stable/user_install.html\n",
      "  from .autonotebook import tqdm as notebook_tqdm\n"
     ]
    }
   ],
   "source": [
    "import os\n",
    "\n",
    "from dotenv import load_dotenv\n",
    "\n",
    "from haystack import Document\n",
    "from haystack.document_stores.in_memory import InMemoryDocumentStore\n",
    "from haystack.components.writers import DocumentWriter\n",
    "from haystack.components.embedders import SentenceTransformersDocumentEmbedder, SentenceTransformersTextEmbedder\n",
    "from haystack.components.preprocessors.document_splitter import DocumentSplitter\n",
    "from haystack import Pipeline\n",
    "from haystack.utils import ComponentDevice\n",
    "from haystack.components.retrievers.in_memory import InMemoryBM25Retriever, InMemoryEmbeddingRetriever\n",
    "from haystack.components.joiners import DocumentJoiner\n",
    "from haystack.components.rankers import TransformersSimilarityRanker\n",
    "from haystack.components.builders import PromptBuilder\n",
    "from haystack.components.generators import OpenAIGenerator\n"
   ]
  },
  {
   "cell_type": "code",
   "execution_count": 2,
   "id": "7037cf54",
   "metadata": {},
   "outputs": [],
   "source": [
    "load_dotenv()\n",
    "openai_api_key = os.environ.get(\"OPENAI_API_KEY\")"
   ]
  },
  {
   "cell_type": "markdown",
   "id": "89d8d862",
   "metadata": {},
   "source": [
    "# Load documents"
   ]
  },
  {
   "cell_type": "code",
   "execution_count": 4,
   "id": "207bd058-0fe2-4b5e-9f9b-9c13518c327c",
   "metadata": {},
   "outputs": [],
   "source": [
    "document_store = InMemoryDocumentStore()\n",
    "\n",
    "docs = []\n",
    "ARTICLES_DIR = os.path.join(\"data\", \"articles\")\n",
    "articles_titles = [name for name in os.listdir(ARTICLES_DIR)]\n",
    "\n",
    "for title in articles_titles:\n",
    "    path = os.path.join(ARTICLES_DIR, title)\n",
    "    with open(path, \"r\") as file:\n",
    "        content = file.read()\n",
    "        docs.append(Document(content=content, meta={\"title\": title}))\n"
   ]
  },
  {
   "cell_type": "markdown",
   "id": "f41aefdd",
   "metadata": {},
   "source": [
    "# Process Documents"
   ]
  },
  {
   "cell_type": "code",
   "execution_count": 5,
   "id": "8231bcd9",
   "metadata": {},
   "outputs": [
    {
     "name": "stderr",
     "output_type": "stream",
     "text": [
      "Batches: 100%|██████████| 53/53 [12:36<00:00, 14.27s/it]\n"
     ]
    },
    {
     "data": {
      "text/plain": [
       "{'document_writer': {'documents_written': 1688}}"
      ]
     },
     "execution_count": 5,
     "metadata": {},
     "output_type": "execute_result"
    }
   ],
   "source": [
    "document_splitter = DocumentSplitter(split_by=\"word\", split_length=512, split_overlap=32)\n",
    "document_embedder = SentenceTransformersDocumentEmbedder(\n",
    "    model=\"BAAI/bge-small-en-v1.5\"\n",
    ")\n",
    "document_writer = DocumentWriter(document_store)\n",
    "\n",
    "indexing_pipeline = Pipeline()\n",
    "indexing_pipeline.add_component(\"document_splitter\", document_splitter)\n",
    "indexing_pipeline.add_component(\"document_embedder\", document_embedder)\n",
    "indexing_pipeline.add_component(\"document_writer\", document_writer)\n",
    "\n",
    "indexing_pipeline.connect(\"document_splitter\", \"document_embedder\")\n",
    "indexing_pipeline.connect(\"document_embedder\", \"document_writer\")\n",
    "\n",
    "indexing_pipeline.run({\"document_splitter\": {\"documents\": docs}})"
   ]
  },
  {
   "cell_type": "markdown",
   "id": "5984d0bb",
   "metadata": {},
   "source": [
    "# Create the Retriever"
   ]
  },
  {
   "cell_type": "code",
   "execution_count": 15,
   "id": "70269e68",
   "metadata": {},
   "outputs": [],
   "source": [
    "text_embedder = SentenceTransformersTextEmbedder(\n",
    "    model=\"BAAI/bge-small-en-v1.5\"\n",
    "    #, device=ComponentDevice.from_str(\"cuda:0\")\n",
    ")\n",
    "embedding_retriever = InMemoryEmbeddingRetriever(document_store)\n",
    "bm25_retriever = InMemoryBM25Retriever(document_store)"
   ]
  },
  {
   "cell_type": "code",
   "execution_count": 16,
   "id": "af3341c1",
   "metadata": {},
   "outputs": [],
   "source": [
    "document_joiner = DocumentJoiner()\n",
    "ranker = TransformersSimilarityRanker(model=\"BAAI/bge-reranker-base\")\n"
   ]
  },
  {
   "cell_type": "code",
   "execution_count": 17,
   "id": "6b62727b",
   "metadata": {},
   "outputs": [
    {
     "data": {
      "text/plain": [
       "<haystack.core.pipeline.pipeline.Pipeline object at 0x1610a6f50>\n",
       "🚅 Components\n",
       "  - text_embedder: SentenceTransformersTextEmbedder\n",
       "  - embedding_retriever: InMemoryEmbeddingRetriever\n",
       "  - bm25_retriever: InMemoryBM25Retriever\n",
       "  - document_joiner: DocumentJoiner\n",
       "  - ranker: TransformersSimilarityRanker\n",
       "🛤️ Connections\n",
       "  - text_embedder.embedding -> embedding_retriever.query_embedding (List[float])\n",
       "  - embedding_retriever.documents -> document_joiner.documents (List[Document])\n",
       "  - bm25_retriever.documents -> document_joiner.documents (List[Document])\n",
       "  - document_joiner.documents -> ranker.documents (List[Document])"
      ]
     },
     "execution_count": 17,
     "metadata": {},
     "output_type": "execute_result"
    }
   ],
   "source": [
    "hybrid_retrieval = Pipeline()\n",
    "hybrid_retrieval.add_component(\"text_embedder\", text_embedder)\n",
    "hybrid_retrieval.add_component(\"embedding_retriever\", embedding_retriever)\n",
    "hybrid_retrieval.add_component(\"bm25_retriever\", bm25_retriever)\n",
    "hybrid_retrieval.add_component(\"document_joiner\", document_joiner)\n",
    "hybrid_retrieval.add_component(\"ranker\", ranker)\n",
    "\n",
    "hybrid_retrieval.connect(\"text_embedder\", \"embedding_retriever\")\n",
    "hybrid_retrieval.connect(\"bm25_retriever\", \"document_joiner\")\n",
    "hybrid_retrieval.connect(\"embedding_retriever\", \"document_joiner\")\n",
    "hybrid_retrieval.connect(\"document_joiner\", \"ranker\")\n",
    "\n",
    "# hybrid_retrieval.draw(\"hybrid-retrieval.png\")\n"
   ]
  },
  {
   "cell_type": "code",
   "execution_count": 18,
   "id": "aa105684",
   "metadata": {},
   "outputs": [
    {
     "name": "stderr",
     "output_type": "stream",
     "text": [
      "Batches: 100%|██████████| 1/1 [00:03<00:00,  3.50s/it]\n"
     ]
    }
   ],
   "source": [
    "query = \"Jordan Bardella est-il un bon candidat pour l'écologie ?\"\n",
    "\n",
    "result = hybrid_retrieval.run(\n",
    "    {\"text_embedder\": {\"text\": query}, \"bm25_retriever\": {\"query\": query}, \"ranker\": {\"query\": query}}\n",
    ")"
   ]
  },
  {
   "cell_type": "code",
   "execution_count": 27,
   "id": "737c3bc4",
   "metadata": {},
   "outputs": [
    {
     "name": "stdout",
     "output_type": "stream",
     "text": [
      "===================\n",
      "presidentielle-2022-course-a-la-nullite-des-candidates\n",
      "grosses bêtises en 20 secondes\n",
      ", en plaçant notamment la France comme meilleur élève écologique (c’est faux) et en confondant mix électrique et mix énergétique. Heureusement que c’est Jordan Bardella qui est aujourd’hui président du Rassemblement National le temps de la campagne, lui qui avait déclaré en juin dernier que “\n",
      "Le C20 a été divisé par 1000 depuis les années 60\n",
      "“. Une équipe prête à diriger la France, sans aucun doute.\n",
      "Jean-Luc Mélenchon, l’écologie spectacle\n",
      "S’il y a bien un candidat qui illustre à la perfection la politique des punchlines, des incantations et des petites phrases relayées sur les réseaux sociaux, c’est Jean-Luc Mélenchon.\n",
      "Mais lorsqu’il s’agit de mettre en pratique les paroles, c’est un tout petit peu plus compliqué. Il y a un an, il proposait déjà de sortir du nucléaire en “\n",
      "inventant une autre énergie bas-carbone\n",
      "“. Le débat énergétique mérite mieux que d’attendre qu’Harry Potter nous sorte une énergie verte de son chapeau. Toujours dans la politique spectacle, il annonce mi-octobre deux énormités :\n",
      "« La France détient 56 réacteurs nucléaires. Entre maintenant et 2027, 22 réacteurs vont atteindre leur limite de vie et pour les recaréner, 150 milliards d'euros sont nécessaires. Nous avons fait notre choix, nous mettrons fin à ces centrales. ».\n",
      "#JLMReims\n",
      "\n",
      "pic.twitter.com/W2SeA6i1ul\n",
      "— Jean-Luc Mélenchon (@JLMelenchon)\n",
      "October 17, 2021\n",
      "\n",
      "\n",
      "50, ou 100, mais jamais 150 milliards\n",
      "Premièrement, le Grand Carénage ne coûte pas de 150 milliards comme annoncé, mais plutôt 50 milliards. Il a débuté en 2014 et se finit en 2025. Nous avons donc bien avancé dans ses travaux et les 50 milliards sont déjà majoritairement dépensés.\n",
      "Il est parfois évoqué 100 milliards, à la suite d’un rapport de la Cour des comptes en 2016. Il s’agit en réalité d’un périmètre différent, et d’une période différente (\n",
      "la première allant jusqu’en 2025, l’autre en 2030\n",
      "). Le chiffre 150 milliards n’est quant à lui dans aucun rapport officiel, juste un chiffre balancé par des politiques peu scrupuleux des faits et prêts à exagérer les chiffres par pur intérêt électoral.\n",
      "“Fermer 22 centrales nucléaires en 5 ans” !\n",
      "Le deuxième point fallacieux, voire mensonger, est la durée de vie de 40 ans des centrales.\n",
      "Cette limite n’existe pas\n",
      ", les centrales peuvent être prolongées après 40 ans. Chaque fois qu’un politique parle de cette limite, il ou elle ment.\n",
      "Ensuite, fermer 22 centrales en 5 ans est non seulement quasi irréalisable techniquement, mais en plus, cela aurait de graves conséquences pour nos émissions de CO2 et le respect de nos objectifs climatiques. Ci-dessous, la part de la production brute d’électricité en France. Imaginez une seule seconde vous passer de 22 centrales :\n",
      "Source\n",
      "L’Allemagne se retrouve dans la même impasse, avec environ autant de réacteurs en 12 ans (arrêt complet du nucléaire prévu en 2022), qui mèneront hélas vers une hausse de la consommation de gaz et de charbon pour compenser\n",
      ". En aucun cas le gaz n’est une énergie “de transition” pour atteindre\n",
      "la neutralité carbone en 2050\n",
      "(argument avancé à droite comme à gauche d’ailleurs).\n",
      "Après une semaine de critiques, Jean-Luc Mélenchon\n",
      "a rétropédalé\n",
      "et a affirmé qu’il s’alignait finalement sur le scénario Negawatt qui étale les fermetures des centrales entre 40 et 50 ans. Une correction qui comme d’habitude fera moins de bruit, les \n",
      "===================\n",
      "lextreme-droite-et-lextreme-gauche-est-ce-vraiment-la-meme-chose\n",
      "\n",
      "\n",
      "Getting your\n",
      "Trinity Audio\n",
      "player ready...\n",
      "Après avoir dit que\n",
      "le Nouveau Front Populaire (NFP) était antisémite\n",
      ", après avoir dit que son programme était irréalisable, voici la nouvelle tendance du gouvernement Macron et d’une partie des médias : mettre sur le même plan le Rassemblement National et l’Union de la gauche.\n",
      "La France Insoumise (LFI) est particulièrement visée lorsqu’est évoquée “l’extrême-gauche”, mais tout groupe politique dans le NFP porte désormais l’étiquette d’extrême gauche. Une technique politique particulièrement efficace, nous en avions parlé sur Bon Pote lorsqu’en pleine campagne pour les législatives 2022,\n",
      "le candidat Renaissance avait déclaré que “Cédric Villani incarnait l’extrême-gauche\n",
      "“.\n",
      "Depuis la\n",
      "dissolution de l’Assemblée nationale le soir des résultats des élections européennes\n",
      ", Yannick Jadot, François Hollande, Raphaël Glucksmann, Carole Delga etc. seraient donc toutes et tous d’extrême-gauche. Mais les personnes qui utilisent l’expression “extrême-gauche” savent-elles définir ce que c’est ?\n",
      "Définir l’extrême-droite et l’extrême-gauche\n",
      "C’est quoi, l’extrême-droite ?\n",
      "Depuis (au moins) des décennies, l’extrême-droite est définie, étudiée, critiquée, combattue. Sa\n",
      "définition est simple\n",
      ": “\n",
      "Ensemble des individus, groupes, mouvements et partis politiques défendant des idées et valeurs de droite et s’appuyant sur un conservatisme et un nationalisme exacerbés\n",
      "“.\n",
      "Pour approfondir le sujet, la vidéo de Philoxime est excellente. Grâce à une importante bibliographie, il rappelle notamment que l’extrême-droite a trois caractéristiques : le nativisme, l’autoritarisme, et l’hostilité à la démocratie. N’en déplaise à Jordan Bardella, Marine Le Pen et Eric Zemmour, ces trois valeurs représentent très bien les deux principaux partis d’extrême-droite en France, le Rassemblement National et Reconquête.\n",
      "\n",
      "Le Rassemblement National a d’ailleurs contesté être d’extrême-droite, avant que le Conseil d’Etat ne le confirme :\n",
      "le Rassemblement National est bien d’extrême-droite\n",
      ".\n",
      "Le Conseil d’État est la plus haute juridiction de l’ordre administratif. Il vérifie le respect des règles de procédure et l’application de la loi par les tribunaux et les cours administratives d’appel.\n",
      "Nous aurions pu également évoquer\n",
      "la politique climatosceptique de l’extrême-droite\n",
      ", le racisme, les mensonges répétés dans les médias sans contradiction, mais cela a déjà été fait dans d’autres articles et cet article se concentre sur l’utilisation fallacieuse de ces termes.\n",
      "C’est quoi, l’extrême-gauche ?\n",
      "Voilà la question que les journalistes devraient poser à chaque personne qui utilise l’expression “extrême-gauche” : “quelle est votre définition de l’extrême-gauche ?”.\n",
      "Sa définition\n",
      "est à nouveau plutôt simple :\n",
      "“Ensemble des individus, groupes, mouvements et partis politiques partageant des idées et valeurs de gauche, notamment l’anticapitalisme, l’internationalisme et l’égalitarisme\n",
      "“.\n",
      "L’extrême-gauche se définit surtout par son aspect révolutionnaire, c’est-à-dire qu’elle ne souhaite pas prendre le pouvoir par les urnes mais par la révolution. Maintenant que l’extrême-gauche est définie, est-ce que LFI est d’extrême-gauche ?\n",
      "Ni le programme\n",
      "Avenir en commun en 2022\n",
      ", ni le programme\n",
      "LFI pour les européennes 2024\n",
      "est anti-capitaliste ou souhaite obtenir le pouvoir en dehors des urnes. Leur programme est bien de gauche et réformiste, mais pas “d’extrême-gauche”. Notons également que ce programme est moins à gauche que le programme de 1981 de François Mitterrand, “\n",
      "110 propositions pour la France\n",
      "“, qui était déjà comparé à l’extrême-gauche par une partie des médias de l’époque.\n",
      "Le Conseil d’Etat classe le Parti communiste français (PCF) et La France insoumise dans le bloc « gauche », et Lutte ouvrière (LO) et le Nouveau Parti anticapitaliste (NPA) sont classés dans la catégorie « extrême gauche ».\n",
      "Comment alors interpréter les personnes qui mettent sur le même plan l’extrême-droite et l’extrême-gauche ?\n",
      "Mettre sur le même plan l’extrême-droite et l’extrême-gauche, une tactique politique bien huilée\n",
      "Si des politiques se permettent de mettre sur le même plan l’extrême-droite \n",
      "===================\n",
      "lextreme-droite-jubile-les-gauches-regardent-ailleurs\n",
      "Villani incarnait l’extrême-gauche\n",
      "Selon Frédéric Dabi, Directeur Général Opinion Ifop “à\n",
      "l’extrême-droite, il n’y a aucun doute chez les personnes qui vont voter Jordan Bardella\n",
      "“. Une tendance confirmée dans le sondage Ipsos d’avril 2024, où nous apprenons que\n",
      "80% des personnes comptant voter pour la liste Rassemblement National sont sûres de leur choix\n",
      ".\n",
      "Seuls les électeurs de la liste Renaissance se montrent davantage sûrs de leur choix, 81% des personnes comptant voter pour cette liste déclarant être sûres de leur choix. Les électeurs de la liste LFI se montrent également plutôt décidés (63%) ainsi que les électeurs des listes Parti Socialiste – Place Publique (60%) et de la liste PCF (55%). C’est en revanche seulement le cas de 46% des électeurs de la liste Reconquête, 40% des électeurs de la liste Les Républicains, 34% des électeurs de la liste EELV.\n",
      "En d’autres termes, les querelles politiciennes des partis\n",
      "de gauche\n",
      "ne font qu’alimenter la défiance envers les politiques et la solution du “on a jamais essayé” parait de plus en plus une solution acceptable.\n",
      "Que vous ayez tort ou raison sur les faits, si vos attaques sur un homme ou une femme politique\n",
      "de gauche\n",
      "bénéficient à l’extrême-droite ou à tout parti qui souhaite maintenir le système économique et social actuel, c’est une faute professionnelle. Une faute morale. Une faute grave.\n",
      "Emmanuel Macron ne pourra pas être tenu comme seul responsable de la montée de l’extrême-droite si les Françaises et les Français n’ont même pas l’opportunité de voter pour une opposition crédible. Le résultat est terrible : pendant que les gauches s’entretuent, le gouvernement Macron continue de faire vivoter le\n",
      "business as usual\n",
      "et le Rassemblement National rafle la mise.\n",
      "Jordan Bardella, le vide à 30%\n",
      "Le plus alarmant est probablement que les dirigeants d’extrême-droite n’ont même pas besoin d’être bons pour caracoler en tête des sondages.\n",
      "Source :\n",
      "sondage Ifop-Fiducial du 2 mai 2024\n",
      "Il suffit d’écouter Jordan Bardella. Peu importe le sujet : social, économie, climat, le constat est le même, il n’a aucune profondeur sur les sujets. Il ne tient pas deux minutes sans faire une erreur, volontaire ou non, ou pointer du doigt la seule et unique raison de tous les maux en France : l’immigration.\n",
      "Les inégalités ? C’est de la faute de l’immigration. La pauvreté qui explose ? L’immigration. Le changement climatique et l’effondrement de la biodiversité ? L’immigration. Vous avez passé une mauvaise journée ? L’immigration.\n",
      "Mais s’il n’apparait pas comme une imposture, c’est parce que les journalistes qui l’interrogent ne font pas leur travail. Comme souvent, la presse a une très grande responsabilité lorsqu’elle laisse les politiques raconter n’importe quoi, sans contradiction. De gauche comme de droite.\n",
      "Sur Bon Pote, nous avions déjà\n",
      "analysé le programme du Rassemblement National pour l’élection présidentielle en 2022\n",
      ", et vous retrouverez dans les grandes lignes la même chose pour les élections européennes 2024. Faut-il vraiment rappeler que\n",
      "Jordan Bardella confond le CO2 et le C2O\n",
      ", s’oppose publiquement et systématiquement avec toute l’extrême-droite aux avancées pour le climat et la biodiversité en France comme en Europe ?\n",
      "Pas un jour sans qu’il soit possible de constater son incompétence,\n",
      "comme ici\n",
      "lorsque Nicolas Goldberg rappelle que “\n",
      "lorsqu’il dit que vouloir bannir les produits issus de l’esclavage en Union Européenne allait imposer plus de normes, en confondant dans ses fiches \n",
      "===================\n",
      "elections-europeennes-2024-pour-qui-voter\n",
      "individuelle n’a d’ailleurs pas été assez discutée, alors que le message est pourtant très clair :  “\n",
      "l’avenir de la voiture sera assurément électrique, mais la voiture individuelle ne doit pas être l’avenir de notre mobilité\n",
      "“\n",
      "Jordan Bardella, le vide à plus de 30% dans les sondages\n",
      "Dernière partie consacrée au parti du Rassemblement National, il faut tout de même s’arrêter sur le “phénomène médiatique” Jordan Bardella. Peu importe le sujet, que ce soit sur le social, l’économie ou le climat, la seule et unique cause de tous les maux est selon lui la même : l’immigration.\n",
      "Jordan Bardella ne confond pas seulement le CO2 et le C2O\n",
      ". Il déclare lors d’un débat avec Attal qu’il n’a pas besoin de lire avant de voter un texte tout en prétextant que la\n",
      "facture des français a explosé à cause d’une réforme…qui entre en vigueur en 2026\n",
      ". Son manque d’activité au Parlement Européen depuis 5 ans est pointé du doigt par tous les partis, comme son manque de connaissance du simple fonctionnement des institutions. Il s’est ridiculisé lors d’un débat le 30 mai dernier en démontrant qu’il ne connaissait pas le mode de scrutin au Parlement Européen :\n",
      "Les 35 premiers noms de la liste du Rassemblement National sont à l’image du parti :\n",
      "des Pro-Poutine, des personnes proches des milieux identitaires et néo-nazis, des complotistes\n",
      ", etc.\n",
      "En votant pour l’extrême-droite, aucune chance d’atteindre nos objectifs climatiques. Si leur programme venait vraiment à être appliqué, ce serait même un grand bond en arrière.\n",
      "Marion Maréchal, à la Reconquête du réchauffement climatique\n",
      "Faut-il vraiment analyser le programme de Reconquête pour les élections européennes, alors que ce parti comporte plus de climatosceptiques qu’aucun autre parti ? Doit-on vraiment rappeler qui est Eric Zemmour, fondateur du parti et plusieurs fois condamné par la justice, dont\n",
      "le programme écologique est aussi pauvre que ses idées\n",
      "?\n",
      "La candidate de la liste Reconquête Marion Maréchal a enchainé les mensonges et propos fallacieux sur le climat à chacune de ses sorties médiatiques, où il était visiblement plus important de parler de l’islamo-gauchisme (\n",
      "terme qui n’a aucune réalité scientifique\n",
      ") et du lobby LGBT que de biodiversité, du changement climatique, de justice sociale et de la santé des Françaises et Français.\n",
      "L’extrême-droite adore l’argument “la France ce n’est que 1% des émissions mondiales”. Cet argument a été répété inlassablement lors des débats en 2024. Mais le répéter ne changera rien aux faits :\n",
      "cet argument est stupide, contreproductif et n’est là que pour justifier l’inaction climatique de leur programme\n",
      ".\n",
      "Si Marion Maréchal est un danger, le reste de la liste Reconquête est du même niveau. Ici Guillaume Peltier, 2e sur la liste de M. Maréchal aux européennes, considère le grand remplacement, une théorie raciste maintes fois démystifiée, plus dangereux que le changement climatique, un problème qui fait déjà des milliers de morts, y compris en France.\n",
      "Tout simplement dangereux et irresponsable.\n",
      "François-Xavier Bellamy, la droite un peu moins extrême\n",
      "Comme l’extrême-droite, les Républicains se sont illustrés au Parlement Européen lors de ces cinq dernières années par leurs actions visant à maintenir le système actuel. A l’instar de leur chef de file et député européen François-Xavier Bellamy, ils sont contre l’interdiction des voitures neuves à moteur thermique en \n",
      "===================\n",
      "elections-europeennes-2024-pour-qui-voter\n",
      "par leurs actions visant à maintenir le système actuel. A l’instar de leur chef de file et député européen François-Xavier Bellamy, ils sont contre l’interdiction des voitures neuves à moteur thermique en 2035, que ce dernier juge comme “un choix absurde”.\n",
      "Leur aveuglement pour le tout nucléaire est également très préjudiciable. L’ambition sur le plan nucléaire prônée par Bellamy n’a aucun fondement, surtout si cela signifie se passer des éoliennes comme il le répète depuis 2022 :\n",
      "“La décarbonation de notre industrie passe par une vraie ambition sur le plan nucléaire et non par le saccage de nos paysages et de l’environnement que provoque la prolifération des éoliennes.”\n",
      "A nouveau, le débat énergétique est réduit au nucléaire (français), comme si les énergies fossiles n’existaient pas. Et concernant le mix électrique, même dans des scénarios où le nucléaire est très présent, il faudrait d’après le\n",
      "rapport RTE\n",
      "Futurs énergétiques 2050\n",
      "tripler l’éolien terrestre en France d’ici 2050. Soit François-Xavier Bellamy est incompétent, soit il ment en présentant un programme simpliste qui n’a aucun fondement et risque de plonger la France dans une crise énergétique sans précédent.\n",
      "Enfin, oubliez les volets justice sociale, biodiversité, bien-être animal… ces sujets n’ont tout simplement pas fait partie des débats, et quand il a fallu voter ces 5 dernières années, les votes des Républicains ont très largement participé au maintien du système actuel. Tout comme l’extrême-droite, voter les Républicains, c’est s’assurer de ne pas atteindre nos objectifs climatiques.\n",
      "Renaissance : la pause environnementale\n",
      "Le groupe de la majorité présidentielle Renaissance est menée par Valérie Hayer, une candidate qui a eu du mal à s’imposer médiatiquement, peu aidée par le premier ministre Gabriel Attal et le président Macron qui pensant l’aider, l’ont plus effacée qu’autre chose.\n",
      "Le\n",
      "débat anti-démocratique imposé aux Français le 23 mai entre Jordan Bardella et Gabriel Attal\n",
      "en est la parfaite illustration. Pour un débat sur les élections européennes, pourquoi Valérie Hayer n’était pas face à Jordan Bardella ? Elle est considérée comme trop mauvaise pour l’affronter ? Le 3 juin, Gabriel Attal fait irruption dans l’auditorium de la Maison de la radio et\n",
      "monopolise le temps de parole de Valérie Hayer\n",
      ". Comment expliquer un tel comportement, de tels choix ?\n",
      "Concernant le programme “\n",
      "Besoin d’Europe\n",
      "“, il est particulièrement frappant de voir l’ordre des “combats”. Le 1er, “faire de l’Europe une puissance forte, sûre et indépendante”, où le premier point du programme est consacré au réarmement de l’Europe, suivi de la maitrise des frontières, de la lutte contre le terrorisme et l’islamisme radical. Les volets écologiques et sociaux n’arrivent qu’en 2e position, “notre 2e combat”.\n",
      "Sur ces points, le programme est dans les grandes lignes le même que ce que propose le gouvernement en France sur les questions environnementales. De la croissance ‘responsable’, un aveuglement dans la technologie salvatrice, l’impossibilité d’envisager une réduction de la demande.\n",
      "Valérie Hayer est contre la limitation du trafic aérien et ‘croit à l’avion décarboné’. Dans les faits,\n",
      "le trafic aérien va atteindre un record de 5 milliards de passagers en 2024\n",
      ", avec une hausse toujours aussi importante des émissions de CO2. Valérie Hayer ne voit pas non plus le problème dans l’agrandissement des aéroports ou de\n",
      "nouvelles infrastructures comme l’A69\n",
      ", malgré les \n",
      "===================\n",
      "lextreme-droite-jubile-les-gauches-regardent-ailleurs\n",
      "Bis repetita\n",
      ". Les élections européennes auront lieu le 9 juin 2024 et de nouveau, le même schéma se profile. L’extrême-droite caracole en tête des sondages à plus de 30% des intentions de voix, au moins 5 points de plus que\n",
      "les sondages avant les élections européennes de 2019\n",
      ".\n",
      "Le cordon sanitaire a totalement sauté. S’il était encore plus ou moins honteux de voter extrême-droite en France il y a 20 ans, la donne n’est plus du tout la même aujourd’hui.\n",
      "Des alliés de taille\n",
      "Mais si le score du Rassemblement National est si haut, c’est parce que le parti peut compter sur des alliés de taille. Le gouvernement d’abord. Entre les alliances à l’Assemblée Nationale et la récupération d’une partie du programme de l’extrême-droite et de ses slogans, jamais un gouvernement n’aura autant participé à banaliser l’extrême-droite, jusqu’à appliquer une partie de son programme. De la loi immigration à\n",
      "la criminalisation des activistes climat\n",
      ", les exemples ne manquent pas et se multiplient au fil des mois.\n",
      "Le Rassemblement National peut aussi compter sur un autre allié de taille : les médias. Ses soutiens ne s’arrêtent pas aux milliardaires comme Vincent Bolloré qui rachètent médias et radios pour imposer ses idées. Le reste du système médiatique accueille désormais à bras ouverts le RN, ce qui était à nouveau inconcevable il y a encore 20 ans. Il suffit d’écouter la complaisance dont bénéficie Jordan Bardella au micro de Léa Salamé ou Apolline de Malherbe dans les matinales les plus écoutées de France pour comprendre que le candidat “anti-système” est très bien reçu par ce système.\n",
      "Enfin, l’extrême-droite peut compter sur un dernier allié de taille, qui n’est autre que le cirque continu qu’offre l’opposition. Nous ne parlons pas ici des Républicains, dont on peut se demander pourquoi leur président Eric Ciotti n’a pas encore pris sa carte au Rassemblement National. Mais bien de la gauche, ou des gauches.\n",
      "Débattre sur qui est de gauche ou “vraiment de gauche” et surtout y dépenser trop d’énergie est du même intérêt qu’un débat sémantique pour savoir\n",
      "s’il faut dire réchauffement, changement ou dérèglement climatique\n",
      ". Vous passerez à côté de l’essentiel : le monde s’embrase et l’extrême-droite se frotte les mains.\n",
      "La gauche, ou plutôt les gauches, regardent ailleurs\n",
      "La journée du 1er mai 2024 est un cas d’école parmi des centaines de ce qu’il se passe depuis des mois. Raphaël Glucksmann\n",
      "cible les « insoumis » après avoir été contraint de quitter le cortège du 1ᵉʳ-Mai à Saint-Etienne sous les huées\n",
      ", tous les partis\n",
      "de gauche\n",
      "sautent sur l’occasion pour récupérer l’évènement en relayant de fausses informations puisque les Jeunes communistes de la Loire revendiquent l’action.\n",
      "Les médias adorent la séquence. De Macron à Zemmour, cela permet de jouer un disque très efficace jusqu’ici : confondre la gauche et l’extrême gauche, mettre dans le même sac “\n",
      "tous ces partis irréconciliables et irresponsables qui bordelisent la République\n",
      "“. A qui cela bénéficie-t-il encore ? L’extrême-droite.\n",
      "En pleine campagne pour les législatives 2022, le candidat Renaissance avait déclaré que Cédric Villani incarnait l’extrême-gauche\n",
      "Selon Frédéric Dabi, Directeur Général Opinion Ifop “à\n",
      "l’extrême-droite, il n’y a aucun doute chez les personnes qui vont voter Jordan Bardella\n",
      "“. Une tendance confirmée dans le sondage Ipsos d’avril 2024, \n",
      "===================\n",
      "lextreme-droite-jubile-les-gauches-regardent-ailleurs\n",
      "de constater son incompétence,\n",
      "comme ici\n",
      "lorsque Nicolas Goldberg rappelle que “\n",
      "lorsqu’il dit que vouloir bannir les produits issus de l’esclavage en Union Européenne allait imposer plus de normes, en confondant dans ses fiches avec son attaque pour la CSRD\n",
      "“. Mais si un candidat aussi mauvais domine très largement les sondages, que dire des autres candidates et candidats ?\n",
      "Une remise en question nécessaire et urgente\n",
      "L’extrême-droite a réussi son pari. Apparaître comme un parti normal, reçu partout, y compris dans des écoles comme\n",
      "HEC, l’une des écoles de commerce les plus réputées de France\n",
      ".\n",
      "Qu’une école aussi prestigieuse accueille à bras ouverts Jordan Bardella qui fait rire la salle et finit par être ovationné en fin de rencontre n’est qu’un signe de plus de la situation politique du pays, où la jeunesse voit plus d’espoir dans l’extrême-droite que dans tout autre parti.\n",
      "Source : Sondage\n",
      "Opinionway\n",
      "Si les candidates et candidats\n",
      "de gauche\n",
      "ont vraiment à cœur d’agir pour l’avenir des Françaises et des Français, le cirque médiatique qui les déchire doit cesser. L’image renvoyée est catastrophique et à nouveau, le système politico-médiatique actuel n’attend que ça pour en profiter.\n",
      "En France, aucune force politique ne défend aussi bien les énergies fossiles que l’extrême-droite. Allez-vous continuer à vous entretuer pendant que l’extrême-droite jubile ?\n",
      "Les partis de gauche doivent prendre leurs responsabilités. L’immense majorité des votes convergent à l’Assemblée Nationale (\n",
      "90% d’après Manon Aubry\n",
      "). Theo Delemazure a analysé les données et le constat est similaire :\n",
      "\n",
      "les 4 groupes de la NUPES votent quasi-systématiquement pour les amendements des autres groupes de la NUPES\n",
      ". Les socialistes votent contre seulement 8% des amendements LFI.\n",
      "Pourquoi alors dépenser tant d’énergie dès qu’un micro se tend à tirer sur des personnes avec qui les convergences sont nombreuses ?\n",
      "Joignez les actes à la parole, et cessez de servir de marchepied à l’extrême-droite. Les Françaises et Français méritent mieux.\n",
      "\n",
      "\n",
      "\n",
      "Thomas Wagner\n",
      "\n",
      "\n",
      "\n",
      "===================\n",
      "elections-europeennes-vague-dextreme-droite-et-dissolution\n",
      "\n",
      "\n",
      "Getting your\n",
      "Trinity Audio\n",
      "player ready...\n",
      "Le 9 juin 2024 restera une journée historique à plus d’un titre. Les élections européennes ont vu l’extrême-droite faire un score historique en France avec environ 37%, respectivement 31,5% pour le Rassemblement National et 5,3% pour Reconquête.\n",
      "Nous aurions pu entendre parler des résultats des européennes encore quelques jours ou semaines. Analyser les conséquences du vote, les leçons à en tirer. Mais Emmanuel Macron en a décidé autrement. A peine une heure après les résultats des élections européennes, le Président de la République Française a décidé de dissoudre l’Assemblée nationale. Nous aurons donc des élections législatives dans 3 semaines en France, se jouant en 2 tours, contrairement aux européennes qui sont à un tour.\n",
      "Des résultats aussi historiques qu’inquiétants\n",
      "Les résultats des élections européennes sont une catastrophe pour la lutte contre le changement climatique et l’effondrement de la biodiversité. Peu importe les discours, quand un pays vote à 37% pour l’extrême-droite, c’est un échec et un réel danger, compte tenu de leurs programmes et politiques environnementales.\n",
      "Les 3 partis qui avaient mis l’écologie au cœur de leur programme ont sauvé les meubles, mais c’est très loin d’être une quelconque source de satisfaction. La liste du Parti Socialiste (PS) et Place Publique menée par Raphaël Glucksmann arrive en 3e position à 14%, légèrement derrière Renaissance, qui fait moins de la moitié du score du Rassemblement National.\n",
      "LFI dépasse légèrement les 10% de vote et EELV dépasse péniblement les 5% pour atteindre 5,5%. La droite via les Républicains finit quant à elle à 7,2%.\n",
      "Crédit : copie d’écran France 2 / IPSOS\n",
      "Le chouchou médiatique\n",
      "Rejet de la politique d’Emmanuel Macron, rejet des élites, déconnexion de la part de certain(e)s femmes et hommes politiques des “vrais” problèmes des Françaises et Français… les raisons du résultat du vote sont multiples. Il est certain qu’à force de criminaliser les activistes climat, de ridiculiser les scientifiques et de dire que ces personnes veulent voler la liberté des Françaises et Français avec leur écologie punitive, les partis qui ont mis l’écologie au centre de leur programme n’ont pas été aidés. Mais ce n’est qu’une infime partie du problème, et une profonde remise en question sera nécessaire pour ces partis, qu’EELV a par ailleurs actée dès la publication des résultats hier.\n",
      "Nous devrions également nous attarder sur le traitement médiatique et la mise en avant de certains candidats, à commencer par Jordan Bardella.\n",
      "Il est de très loin le candidat le plus exposé médiatiquement, et malheureusement, dans la grande majorité des cas, jamais les journalistes ne le reprennent sur ses mensonges et propos fallacieux. Une faillite médiatique gravissime, un choix délibéré de médias qui préfèrent le buzz à la vérité, ne voyant visiblement aucun problème à ce que l’extrême-droite prenne le pouvoir en France.\n",
      "Nous ne le répèterons jamais assez : soutenez la presse indépendante,\n",
      "soutenez Bon Pote si vous le pouvez\n",
      ", nous devons imposer l’écologie dans les médias !\n",
      "Exposition médiatique en mai 2024 des principales têtes de liste aux Européennes. Source :\n",
      "Tagaday\n",
      "Au Parlement européen, la monté des extrêmes est réelle, mais moins importante qu’en France. Il y a une hausse significative de l’extrême-droite et des partis identitaires avec environ 50 sièges, \n",
      "===================\n",
      "lecologie-punitive-a-t-elle-un-sens\n",
      "perdre des années de lutte contre le réchauffement climatique à force de raconter n’importe dans les médias.\n",
      "“Je suis contre l’écologie punitive car ça tue l’écologie. L’écologie, c’est le modernisme, pas le retour aux cavernes.”\n",
      "A deux doigts de parler d’Amish.\n",
      "Palme d’or tout de même à\n",
      "Valeurs Actuelles\n",
      ":\n",
      "N’est stupide que la stupidité\n",
      "Si vous êtes sensibilisé(e) aux sujets climatiques (et après lecture des lignes ci-dessus), vous pouvez peut-être estimer que parler d’écologie punitive est tout à fait idiot. C’est légitime. Mais j’ai tendance à penser que\n",
      "les politiques ne sont pas aussi cons\n",
      "que nous aimons tant le penser. Si cette expression est répétée, c’est tout sauf un hasard.\n",
      "Plus les échéances des élections vont se rapprocher, plus vous aurez de chance de l’entendre. D’abord les Régionales en 2021, et surtout l’élection présidentielle de 2022. C’est à peu près tout ce qui compte pour les personnes qui parlent d’écologie punitive. Alors que les enjeux climatiques doivent se penser à long terme, nos politiques ne voient que le court terme.\n",
      "Aussi, nous devons nous y préparer. Toute critique du modèle de la croissance mène quasi systématiquement à des insultes et moqueries sur les réseaux sociaux. Toute critique du modèle actuel et vous serez qualifié d’utopiste, de communiste, de totalitariste, parfois même les 3 en même temps.\n",
      "L’écologie doit pourtant absolument dépasser les clivages gauche/droite. S’il n’existe pas une mais plusieurs écologies, toute politique ou économie qui ne se repose pas sur l’écologie ne fait aucun sens.\n",
      "En l’état actuel des choses, c’est encore un avantage de parler d’écologie punitive. Tant que la population française n’est pas\n",
      "formée et informée correctement sur ces enjeux\n",
      ", cela continuera d’être le fond de commerce des politiques. Ce matraquage de termes chocs (khmers verts, islamo-gauchistes) ne s’arrêtera malheureusement pas tant qu’il y a un intérêt électoral.\n",
      "Le mot de la fin\n",
      "Si l’écologie punitive est une expression utilisée à tort et à travers, nous avons vu qu’elle pouvait avoir plusieurs intérêts. D’abord, des intérêts de pouvoir : des politiciens à l’approche des élections aux éditorialistes jouant le statu quo, tout est prétexte pour ne rien changer.\n",
      "L’écologie punitive, c’est avant tout jouer le jeu de l’inaction écologique. En effet, dire qu’une loi ‘ne passera jamais parce qu’elle est trop ambitieuse, ou qu’elle abandonne les pauvres’, c’est un classique rhétorique bien connu des personnes qui souhaitent que rien ne change (cf\n",
      "les 12 discours\n",
      ").\n",
      "Il peut être tout à fait légitime de penser qu’une écologie est punitive si elle n’est pas accompagnée de mesures sociales.\n",
      "Nous devons être capables de nous mettre d’accord collectivement sur des règles qui délaissent le moins de personnes possible : sans justice sociale et écologique, il n’y aura pas de transition écologique réussie.\n",
      "Tous les partis politiques, de droite comme de gauche, doivent être capables d’avoir une politique en ce sens.\n",
      "La transformation de nos sociétés ne sera pas facile, et la moindre des choses serait de commencer par dire la vérité sur la situation et d’arrêter de faire croire aux français qu’ils n’auront pas à changer.\n",
      "Enfin, cessons d’évoquer “le problème de l’acceptation sociale” dès qu’une nouvelle loi est proposée. Si l’ensemble de la population était informée correctement sur ces sujets, nous n’aurions pas les \n",
      "===================\n",
      "ecologie-arretons-de-culpabiliser-les-francais\n",
      "adaptés ! Evidemment ça gêne la doxa écolo de dire ça, ça fait moins vendeur…\n",
      "Ce qu’il faut, c’est une vraie taxe carbone. Evidemment, ça ne va pas plaire à tout le monde… à commencer par les gilets jaunes. Forcément, lorsqu’il s’agit d’être concret, d’avoir une écologie pragmatique, y a plus personne.\n",
      "On a qu’une vie\n",
      "Finalement, deux visions de l’écologie s’opposent. D’un côté les écolos et leur écologie punitive : des taxes, des privations, un arrêt de la vie festive. Les mêmes qui sont fans de Greta Thunberg et qui écrivent des tweets depuis leur Iphone.. quelle hypocrisie !\n",
      "De l’autre côté, il y a l’écologie pragmatique.\n",
      "Celle qui va de l’avant, qui souhaite le progrès, qui n’abandonne personne en route\n",
      ". Les solutions, nous les avons. Nous les trouverons. J’ai lu récemment un livre très intéressant de Bill Gates :\n",
      "Climat, comment éviter le désastre.\n",
      "Avec des alliés comme lui, Elon Musk et Jeff Bezos (dont les entreprises sont d’ores et déjà neutres en carbone, soulignons-le), le changement climatique est une affaire de quelques années.\n",
      "On en fait un peu trop avec ce changement climatique, ces scènes apocalyptiques.\n",
      "C’est David Pujadas qui l’a dit. Et vu son expérience, ça m’étonnerait qu’il se trompe. Ce n’est pas un hasard si on exagère tout : c’est pour nous priver de liberté. Je dis merde à cela.\n",
      "Cessons de culpabiliser les Français avec l’écologie. Notre gouvernement s’est félicité d’une “\n",
      "loi climat à l’impact historique\n",
      "“, et ils ont bien raison. Comme le dit très justement Bruno Le Maire :\n",
      "quand une réussite est française, il faut en être fiers\n",
      ". Continuons à vivre ! Continuons à rêver ! On n’a qu’une vie.\n",
      "Exclusif :\n",
      "un droit de réponse a été accordé par la Rédaction Bon Pote\n",
      "\n",
      "\n",
      "\n",
      "Thomas Wagner\n",
      "\n",
      "\n",
      "\n"
     ]
    }
   ],
   "source": [
    "for doc in result.get(\"ranker\").get(\"documents\"):\n",
    "    print(\"===================\")\n",
    "    print(doc.meta[\"title\"])\n",
    "    print(doc.content)\n"
   ]
  },
  {
   "cell_type": "markdown",
   "id": "ae345ae6",
   "metadata": {},
   "source": [
    "# RAG"
   ]
  },
  {
   "cell_type": "code",
   "execution_count": 28,
   "id": "70ee514d",
   "metadata": {},
   "outputs": [],
   "source": [
    "in_memory_retriever = InMemoryEmbeddingRetriever(document_store)"
   ]
  },
  {
   "cell_type": "code",
   "execution_count": 57,
   "id": "ec1e6a0c",
   "metadata": {},
   "outputs": [],
   "source": [
    "template = \"\"\"\n",
    "You are Bonbot, a virtual assistant that answers questions related to climate. The topics you cover are climate change, its impacts, and socio-economic news.\n",
    "\n",
    "You must answer the question based on the excerpts of articles given in the context. You can only rely on the information contained in these excerpts.\n",
    "\n",
    "Context:\n",
    "{% for document in documents %}\n",
    "    {{ document.content }}\n",
    "{% endfor %}\n",
    "\n",
    "Question: {{question}}\n",
    "Answer:\n",
    "\"\"\"\n",
    "\n",
    "prompt_builder = PromptBuilder(template=template)"
   ]
  },
  {
   "cell_type": "code",
   "execution_count": 58,
   "id": "1548557c",
   "metadata": {},
   "outputs": [],
   "source": [
    "generator = OpenAIGenerator(model=\"gpt-4o\", generation_kwargs={\"temperature\": 0, \"max_tokens\": 250})"
   ]
  },
  {
   "cell_type": "code",
   "execution_count": 59,
   "id": "8e376f57",
   "metadata": {},
   "outputs": [
    {
     "data": {
      "text/plain": [
       "<haystack.core.pipeline.pipeline.Pipeline object at 0x17ff67b10>\n",
       "🚅 Components\n",
       "  - text_embedder: SentenceTransformersTextEmbedder\n",
       "  - retriever: InMemoryEmbeddingRetriever\n",
       "  - prompt_builder: PromptBuilder\n",
       "  - llm: OpenAIGenerator\n",
       "🛤️ Connections\n",
       "  - text_embedder.embedding -> retriever.query_embedding (List[float])\n",
       "  - retriever.documents -> prompt_builder.documents (List[Document])\n",
       "  - prompt_builder.prompt -> llm.prompt (str)"
      ]
     },
     "execution_count": 59,
     "metadata": {},
     "output_type": "execute_result"
    }
   ],
   "source": [
    "retriever = InMemoryEmbeddingRetriever(document_store)\n",
    "embedder = SentenceTransformersTextEmbedder(model=\"BAAI/bge-small-en-v1.5\")\n",
    "\n",
    "basic_rag_pipeline = Pipeline()\n",
    "# Add components to your pipeline\n",
    "# TODO change retriever for hybrid\n",
    "basic_rag_pipeline.add_component(\"text_embedder\", embedder)\n",
    "basic_rag_pipeline.add_component(\"retriever\", retriever)\n",
    "basic_rag_pipeline.add_component(\"prompt_builder\", prompt_builder)\n",
    "basic_rag_pipeline.add_component(\"llm\", generator)\n",
    "\n",
    "# Now, connect the components to each other\n",
    "basic_rag_pipeline.connect(\"text_embedder.embedding\", \"retriever.query_embedding\")\n",
    "basic_rag_pipeline.connect(\"retriever\", \"prompt_builder.documents\")\n",
    "basic_rag_pipeline.connect(\"prompt_builder\", \"llm\")"
   ]
  },
  {
   "cell_type": "code",
   "execution_count": 60,
   "id": "b86631ad",
   "metadata": {},
   "outputs": [
    {
     "name": "stderr",
     "output_type": "stream",
     "text": [
      "Batches:   0%|          | 0/1 [00:00<?, ?it/s]"
     ]
    },
    {
     "name": "stderr",
     "output_type": "stream",
     "text": [
      "Batches: 100%|██████████| 1/1 [00:00<00:00,  1.37it/s]\n"
     ]
    },
    {
     "name": "stdout",
     "output_type": "stream",
     "text": [
      "\n",
      "\n",
      "\n",
      "D'après les informations contenues dans les extraits, Jordan Bardella ne semble pas être un bon candidat pour l'écologie. Il est critiqué pour son manque de connaissance sur les sujets climatiques et pour ses déclarations erronées, comme confondre le CO2 et le C2O. De plus, son parti, le Rassemblement National, est décrit comme ayant des positions qui ne favorisent pas l'atteinte des objectifs climatiques, et leur programme est même considéré comme un grand bond en arrière en matière de lutte contre le changement climatique.\n"
     ]
    }
   ],
   "source": [
    "question = \"Jordan Bardella est-il un bon candidat pour l'écologie ?\"\n",
    "\n",
    "response = basic_rag_pipeline.run({\"text_embedder\": {\"text\": question}, \"prompt_builder\": {\"question\": question}})\n",
    "\n",
    "print(\"\\n\\n\")\n",
    "print(response[\"llm\"][\"replies\"][0])"
   ]
  },
  {
   "cell_type": "code",
   "execution_count": 6,
   "id": "d99507a7",
   "metadata": {},
   "outputs": [],
   "source": [
    "document_store.save_to_disk(\"data/document_store\")"
   ]
  },
  {
   "cell_type": "code",
   "execution_count": 7,
   "id": "2a408ac8",
   "metadata": {},
   "outputs": [],
   "source": [
    "new_store = InMemoryDocumentStore.load_from_disk(\"data/document_store\")"
   ]
  },
  {
   "cell_type": "code",
   "execution_count": null,
   "id": "ffe9f3fe",
   "metadata": {},
   "outputs": [],
   "source": []
  }
 ],
 "metadata": {
  "kernelspec": {
   "display_name": "venv",
   "language": "python",
   "name": "python3"
  },
  "language_info": {
   "codemirror_mode": {
    "name": "ipython",
    "version": 3
   },
   "file_extension": ".py",
   "mimetype": "text/x-python",
   "name": "python",
   "nbconvert_exporter": "python",
   "pygments_lexer": "ipython3",
   "version": "3.11.6"
  }
 },
 "nbformat": 4,
 "nbformat_minor": 5
}
